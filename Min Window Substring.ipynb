{
 "cells": [
  {
   "cell_type": "markdown",
   "metadata": {},
   "source": [
    "## Min Window Substring  \n",
    "\n",
    "Have the function MinWindowSubstring(strArr) take the array of strings stored in strArr, which will contain only two strings, the first parameter being the string N and the second parameter being a string K of some characters, and your goal is to determine the smallest substring of N that contains all the characters in K. For example: if strArr is [\"aaabaaddae\", \"aed\"] then the smallest substring of N that contains the characters a, e, and d is \"dae\" located at the end of the string. So for this example your program should return the string dae.\n",
    "\n",
    "Another example: if strArr is [\"aabdccdbcacd\", \"aad\"] then the smallest substring of N that contains all of the characters in K is \"aabd\" which is located at the beginning of the string. Both parameters will be strings ranging in length from 1 to 50 characters and all of K's characters will exist somewhere in the string N. Both strings will only contains lowercase alphabetic characters.  \n",
    "Examples  \n",
    "Input: {\"ahffaksfajeeubsne\", \"jefaa\"}  \n",
    "Output: aksfaje  \n",
    "Input: {\"aaffhkksemckelloe\", \"fhea\"}  \n",
    "Output: affhkkse  \n",
    "\n"
   ]
  },
  {
   "cell_type": "code",
   "execution_count": null,
   "metadata": {},
   "outputs": [],
   "source": []
  }
 ],
 "metadata": {
  "kernelspec": {
   "display_name": "Python 3",
   "language": "python",
   "name": "python3"
  },
  "language_info": {
   "codemirror_mode": {
    "name": "ipython",
    "version": 3
   },
   "file_extension": ".py",
   "mimetype": "text/x-python",
   "name": "python",
   "nbconvert_exporter": "python",
   "pygments_lexer": "ipython3",
   "version": "3.7.7"
  }
 },
 "nbformat": 4,
 "nbformat_minor": 4
}
