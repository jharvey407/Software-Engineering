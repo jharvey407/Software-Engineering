{
 "cells": [
  {
   "cell_type": "markdown",
   "metadata": {},
   "source": [
    "# Triangle Numbers\n",
    "\n",
    "This Triangular Number Sequence is generated from a pattern of dots that form a triangle. The first 5 numbers of the sequence, or dots, are:\n",
    "\n",
    "1, 3, 6, 10, 15\n",
    "This means that the first triangle has just one dot, the second one has three dots, the third one has 6 dots and so on.\n",
    "\n",
    "Write a function that gives the number of dots with its corresponding triangle number of the sequence.\n",
    "\n",
    "Examples\n",
    "triangle(1) ➞ 1\n",
    "\n",
    "triangle(6) ➞ 21\n",
    "\n",
    "triangle(215) ➞ 23220"
   ]
  },
  {
   "cell_type": "markdown",
   "metadata": {},
   "source": [
    "#### Brute Force Solution\n",
    "\n",
    "The first solution is a brute force solution using a loop. We start at the bottom and count up.  \n",
    "Each layer of the triangle has one less dot than the previous."
   ]
  },
  {
   "cell_type": "code",
   "execution_count": 6,
   "metadata": {},
   "outputs": [
    {
     "name": "stdout",
     "output_type": "stream",
     "text": [
      "21\n",
      "23220\n"
     ]
    }
   ],
   "source": [
    "def triangle(dots):\n",
    "    total_dots = dots               # Start our count with the initial number of dots\n",
    "    if dots == 1:                   # If there is only one dot\n",
    "        return(total_dots)          # the answer is one\n",
    "    else:\n",
    "        while dots > 0:             # Until we count down to one\n",
    "            total_dots += dots - 1  # each row has one less dot\n",
    "            dots -= 1               # subtact one dot for the next row\n",
    "    \n",
    "    return total_dots              # Once the count reaches one we are finished\n",
    "        \n",
    "print(triangle(6))                  # Should return 21\n",
    "print(triangle(215))                # Should return 215"
   ]
  },
  {
   "cell_type": "markdown",
   "metadata": {},
   "source": [
    "#### Formulaic Solution\n",
    "\n",
    "To find the total number of dots in the triangle we can creat a rectangle by multipling the number of dots by inself + 1:  \n",
    "dots * dots + 1  \n",
    "We can divide the rectangle in half to arrive at the number of dots in the triangle:  \n",
    "total_dots = dots * (dots+1)/2"
   ]
  },
  {
   "cell_type": "code",
   "execution_count": 10,
   "metadata": {},
   "outputs": [
    {
     "name": "stdout",
     "output_type": "stream",
     "text": [
      "21\n",
      "23220\n"
     ]
    }
   ],
   "source": [
    "def triangle(dots):\n",
    "    return int(dots*(dots+1)/2)\n",
    "\n",
    "print(triangle(6))                  # Should return 21\n",
    "print(triangle(215))                # Should return 215"
   ]
  },
  {
   "cell_type": "code",
   "execution_count": null,
   "metadata": {},
   "outputs": [],
   "source": []
  }
 ],
 "metadata": {
  "kernelspec": {
   "display_name": "Python 3",
   "language": "python",
   "name": "python3"
  },
  "language_info": {
   "codemirror_mode": {
    "name": "ipython",
    "version": 3
   },
   "file_extension": ".py",
   "mimetype": "text/x-python",
   "name": "python",
   "nbconvert_exporter": "python",
   "pygments_lexer": "ipython3",
   "version": "3.7.7"
  }
 },
 "nbformat": 4,
 "nbformat_minor": 4
}
