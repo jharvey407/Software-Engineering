{
 "cells": [
  {
   "cell_type": "code",
   "execution_count": 1,
   "metadata": {},
   "outputs": [],
   "source": [
    "# -*- coding: utf-8 -*-\n",
    "\"\"\"\n",
    "Created on Wed Jun 10 03:19:59 2020\n",
    "@author: James\n",
    "\"\"\"\n",
    "\n",
    "\n",
    "\n",
    "# Create a nested dictionary of rare birds and their attributes\n",
    "rarebirds = {\n",
    "    'Gold-Crested Toucan': {\n",
    "        'Height (m)': 1.1,\n",
    "        'Weight (kg)': 35,\n",
    "        'Color': 'Gold',\n",
    "        'Endangered': True,\n",
    "        'Aggresive': True  },\n",
    "\n",
    "    'Pearlescent Kingfisher': {\n",
    "        'Height (m)': 0.25,\n",
    "        'Weight (kg)': 0.5,\n",
    "        'Color': 'White',\n",
    "        'Endangered': False,\n",
    "        'Aggresive': False     },\n",
    "\n",
    "    'Four-Metre Hummingbird': {\n",
    "        'Height (m)': 0.6,\n",
    "        'Weight (kg)': 0.5,\n",
    "        'Color': 'Blue',\n",
    "        'Endangered': True,\n",
    "        'Aggresive': False    },\n",
    "\n",
    "    'Giant Eagle':{\n",
    "        'Height (m)': 1.5,\n",
    "        'Weight (kg)': 52,\n",
    "        'Color': 'Black and White',\n",
    "        'Endangered': True,\n",
    "        'Aggresive': True },\n",
    "\n",
    "    'Ancient Vulture': {\n",
    "        'Height (m)': 2.1,\n",
    "        'Weight (kg)': 70,\n",
    "        'Color': 'Brown',\n",
    "        'Endangered': False,\n",
    "        'Aggresive': False }\n",
    "}        \n"
   ]
  },
  {
   "cell_type": "code",
   "execution_count": 2,
   "metadata": {},
   "outputs": [],
   "source": [
    "# Create a list of bird locations base on our position\n",
    "birdlocation = [\"In the canopy directly above our heads.\",\n",
    "    \"Between my 6 and 9 o'clock above.\",\n",
    "    \"Between my 9 and 12 o'clock above.\",\n",
    "    \"Between my 12 and 3 o'clock above.\",\n",
    "    \"Between my 3 and 6 o'clock above.\",\n",
    "    \"In a nest on the ground.\",\n",
    "    \"Right behind you.\"\n",
    "]"
   ]
  },
  {
   "cell_type": "code",
   "execution_count": 3,
   "metadata": {},
   "outputs": [],
   "source": [
    "# Create a dictionary of location codes and assign locations from the birdlocation list\n",
    "codes = { '001': birdlocation[0],\n",
    "    '010': birdlocation[1],\n",
    "    '011': birdlocation[2],\n",
    "    '100': birdlocation[3],\n",
    "    '101': birdlocation[4],\n",
    "    '110': birdlocation[5],\n",
    "    '111': birdlocation[6]\n",
    "}\n"
   ]
  },
  {
   "cell_type": "code",
   "execution_count": 4,
   "metadata": {},
   "outputs": [],
   "source": [
    "# Creat a list of actions to use when sighting birds\n",
    "actions = ['Back Away',\n",
    "    'Cover our Heads',\n",
    "    'Take a Photograph'\n",
    "]\n"
   ]
  },
  {
   "cell_type": "markdown",
   "metadata": {},
   "source": [
    "Call the value of Aggresive from the rarebirds nested dictionary."
   ]
  },
  {
   "cell_type": "code",
   "execution_count": 5,
   "metadata": {},
   "outputs": [
    {
     "name": "stdout",
     "output_type": "stream",
     "text": [
      "Is the Giant Eagle aggresive?: True\n",
      "\n"
     ]
    }
   ],
   "source": [
    "# Print whether the Giant Eagel is dangerous or not\n",
    "print(\"Is the Giant Eagle aggresive?:\", rarebirds['Giant Eagle']['Aggresive'])\n",
    "print()"
   ]
  },
  {
   "cell_type": "markdown",
   "metadata": {},
   "source": [
    "I added 'No' answers to avoid confusion."
   ]
  },
  {
   "cell_type": "code",
   "execution_count": 6,
   "metadata": {},
   "outputs": [
    {
     "name": "stdout",
     "output_type": "stream",
     "text": [
      "Our list of rare birds:\n",
      "Gold-Crested Toucan\n",
      "Aggresive: Cover our Heads\n",
      "Endangered: Back Away\n",
      "\n",
      "Pearlescent Kingfisher\n",
      "Aggresive: No\n",
      "Endangered: No\n",
      "\n",
      "Four-Metre Hummingbird\n",
      "Aggresive: No\n",
      "Endangered: Back Away\n",
      "\n",
      "Giant Eagle\n",
      "Aggresive: Cover our Heads\n",
      "Endangered: Back Away\n",
      "\n",
      "Ancient Vulture\n",
      "Aggresive: No\n",
      "Endangered: No\n",
      "\n"
     ]
    }
   ],
   "source": [
    "# Print the name of each bird and whether or not it is\n",
    "# Aggresive or Endangered\n",
    "print('Our list of rare birds:')\n",
    "for bird in rarebirds:\n",
    "    print(bird)\n",
    "    if rarebirds[bird]['Aggresive']:\n",
    "        print('Aggresive:', actions[1])\n",
    "    else:\n",
    "        print('Aggresive: No')\n",
    "    if rarebirds[bird]['Endangered']:\n",
    "        print('Endangered:', actions[0])\n",
    "    else:\n",
    "        print('Endangered: No')\n",
    "    print()"
   ]
  },
  {
   "cell_type": "code",
   "execution_count": 7,
   "metadata": {},
   "outputs": [
    {
     "name": "stdout",
     "output_type": "stream",
     "text": [
      "Codes:\n",
      "001 In the canopy directly above our heads.\n",
      "010 Between my 6 and 9 o'clock above.\n",
      "011 Between my 9 and 12 o'clock above.\n",
      "100 Between my 12 and 3 o'clock above.\n",
      "101 Between my 3 and 6 o'clock above.\n",
      "110 In a nest on the ground.\n",
      "111 Right behind you.\n",
      "\n"
     ]
    }
   ],
   "source": [
    "# Print a list of our codes to use as reference\n",
    "print('Codes:')\n",
    "for k, v in codes.items():\n",
    "    print(k, v)\n",
    "print()"
   ]
  },
  {
   "cell_type": "code",
   "execution_count": 8,
   "metadata": {},
   "outputs": [],
   "source": [
    "# Update our rarebirds dictionary with key Seen set to False\n",
    "for k, v in rarebirds.items():\n",
    "    v['Seen'] = False"
   ]
  },
  {
   "cell_type": "markdown",
   "metadata": {},
   "source": [
    "Here you can run a print command for testing the dictionary update."
   ]
  },
  {
   "cell_type": "code",
   "execution_count": 9,
   "metadata": {},
   "outputs": [],
   "source": [
    "# Create a list of rare birds from our dictionary to use as a reference for sighting\n",
    "rarebirdslist = []\n",
    "for bird in rarebirds.keys():\n",
    "    rarebirdslist.append(bird.lower())"
   ]
  },
  {
   "cell_type": "code",
   "execution_count": 10,
   "metadata": {},
   "outputs": [
    {
     "name": "stdout",
     "output_type": "stream",
     "text": [
      "{'Gold-Crested Toucan': {'Height (m)': 1.1, 'Weight (kg)': 35, 'Color': 'Gold', 'Endangered': True, 'Aggresive': True, 'Seen': False}, 'Pearlescent Kingfisher': {'Height (m)': 0.25, 'Weight (kg)': 0.5, 'Color': 'White', 'Endangered': False, 'Aggresive': False, 'Seen': False}, 'Four-Metre Hummingbird': {'Height (m)': 0.6, 'Weight (kg)': 0.5, 'Color': 'Blue', 'Endangered': True, 'Aggresive': False, 'Seen': False}, 'Giant Eagle': {'Height (m)': 1.5, 'Weight (kg)': 52, 'Color': 'Black and White', 'Endangered': True, 'Aggresive': True, 'Seen': False}, 'Ancient Vulture': {'Height (m)': 2.1, 'Weight (kg)': 70, 'Color': 'Brown', 'Endangered': False, 'Aggresive': False, 'Seen': False}}\n"
     ]
    }
   ],
   "source": [
    "# Print command for testing\n",
    "print(rarebirds)"
   ]
  },
  {
   "cell_type": "markdown",
   "metadata": {},
   "source": [
    "## Assignment Instructions\n",
    "Using your encounter variable within a big while-loop, modify the above code so that input is repeatedly requested from the user until they input one of the birds in our rarebirds dictionary.\n",
    "\n",
    "Hint: start the encounter by making encounter’s value True. Make encounter’s value False within the nested if, elif and else statements.\n",
    "\n",
    "### My method\n",
    "\n",
    "I decided to simply repeat the 'What did you see query?' until the input matches a rare bird\n",
    "\n",
    "If your input does not match a rare bird it simply continues to ask.\n",
    "\n",
    "\n"
   ]
  },
  {
   "cell_type": "code",
   "execution_count": 26,
   "metadata": {},
   "outputs": [
    {
     "name": "stdout",
     "output_type": "stream",
     "text": [
      "What did you see? giant eagle\n",
      "This is one of the birds we're looking for!\n"
     ]
    }
   ],
   "source": [
    "# Create an Encounter variable with the default value of True\n",
    "encounter = True\n",
    "\n",
    "\n",
    "while encounter:\n",
    "    # Ask the user what bird they have seen\n",
    "    sighting = input('What did you see? ').lower()\n",
    "\n",
    "    # Compare our sighting to our rarebirds list, print confirmation message\n",
    "    if sighting in (rarebirdslist):\n",
    "        print(\"This is one of the birds we're looking for!\")\n",
    "        break\n",
    "    else:\n",
    "        print(\"That's not one of the birds we're looking for.\")"
   ]
  },
  {
   "cell_type": "code",
   "execution_count": 27,
   "metadata": {},
   "outputs": [
    {
     "name": "stdout",
     "output_type": "stream",
     "text": [
      "Where did you see it? Input the correct code:001\n"
     ]
    }
   ],
   "source": [
    "# Ask the user for the location code for the sighting of the bird\n",
    "code = input(\"Where did you see it? Input the correct code:\")\n",
    "location = codes[code]"
   ]
  },
  {
   "cell_type": "code",
   "execution_count": 28,
   "metadata": {},
   "outputs": [
    {
     "name": "stdout",
     "output_type": "stream",
     "text": [
      "So you've seen a Giant Eagle In the canopy directly above our heads. My goodness.\n"
     ]
    }
   ],
   "source": [
    "# Output the bird seen and it's location\n",
    "print(\"So you've seen a\", sighting.title(), location, \"My goodness.\")\n"
   ]
  },
  {
   "cell_type": "code",
   "execution_count": 29,
   "metadata": {},
   "outputs": [
    {
     "name": "stdout",
     "output_type": "stream",
     "text": [
      "The Giant Eagle is aggresive. Back Away and Cover our Heads .\n",
      "Take a Photograph of the Giant Eagle at in the canopy directly above our heads.\n"
     ]
    }
   ],
   "source": [
    "# If the bird sighted is aggresive, print a warning\n",
    "if rarebirds[sighting.title()]['Aggresive']:\n",
    "    print('The', sighting.title(), 'is aggresive.', actions[0], 'and', actions[1],'.')\n",
    "    print(actions[2], 'of the', sighting.title(), 'at', codes[code].lower())\n",
    "# If the bird is engangerd, print instructions\n",
    "elif rarebirds[sighting.title()]['Endangered']:\n",
    "    print(actions[2], 'of the', sighting.title(), 'at', codes[code].lower())  \n",
    "# If the bird is neither endangered nor aggresive, print instructions    \n",
    "else:\n",
    "    print(actions[2], 'of the', sighting.title(), 'at', codes[code].lower())\n"
   ]
  },
  {
   "cell_type": "code",
   "execution_count": null,
   "metadata": {},
   "outputs": [],
   "source": []
  },
  {
   "cell_type": "code",
   "execution_count": null,
   "metadata": {},
   "outputs": [],
   "source": []
  }
 ],
 "metadata": {
  "kernelspec": {
   "display_name": "Python 3",
   "language": "python",
   "name": "python3"
  },
  "language_info": {
   "codemirror_mode": {
    "name": "ipython",
    "version": 3
   },
   "file_extension": ".py",
   "mimetype": "text/x-python",
   "name": "python",
   "nbconvert_exporter": "python",
   "pygments_lexer": "ipython3",
   "version": "3.7.7"
  }
 },
 "nbformat": 4,
 "nbformat_minor": 4
}
