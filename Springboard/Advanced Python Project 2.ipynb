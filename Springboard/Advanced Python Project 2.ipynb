{
 "cells": [
  {
   "cell_type": "markdown",
   "metadata": {},
   "source": [
    "#### Advanced Python Project 2\n",
    "##### James Harvey\n",
    "\n",
    "The first step is that we want to make a table in Python that looks a little like this:\n",
    "\n",
    "Date\tCredit\tDebit\tBalance\n",
    "-\t-\t-\t-\n"
   ]
  },
  {
   "cell_type": "markdown",
   "metadata": {},
   "source": [
    "Each transaction will credit or debit money to the account. If money is deposited into the account, it is credited; if money is withdrawn, it is debited.\n",
    "\n",
    "For this task, make the list account contain just one element: a list containing the column names 'Date', 'Credit', 'Debit', 'Balance' as above."
   ]
  },
  {
   "cell_type": "code",
   "execution_count": 1,
   "metadata": {},
   "outputs": [],
   "source": [
    "import datetime\n",
    "\n",
    "account = [\n",
    "    [\"Date\", \"Credit\", \"Debit\", \"Balance\"],\n",
    "]"
   ]
  },
  {
   "cell_type": "markdown",
   "metadata": {},
   "source": [
    "Declare a function called transaction() on line 4 of your text editor. We want this function to eventually do the job of making a new row for each transaction, get the user input for whether they want to credit or debit the account, associate the current day, month and year to the transaction, and calculate the new balance."
   ]
  },
  {
   "cell_type": "code",
   "execution_count": 4,
   "metadata": {},
   "outputs": [],
   "source": [
    "def transaction():\n",
    "    now = datetime.datetime.now()\n",
    "    dayMonthYear = str(now.day)+'/'+str(now.month)+'/'+str(now.year)\n",
    "    print(dayMonthYear)"
   ]
  },
  {
   "cell_type": "code",
   "execution_count": 5,
   "metadata": {},
   "outputs": [
    {
     "data": {
      "text/plain": [
       "<function __main__.transaction()>"
      ]
     },
     "execution_count": 5,
     "metadata": {},
     "output_type": "execute_result"
    }
   ],
   "source": [
    "transaction"
   ]
  },
  {
   "cell_type": "code",
   "execution_count": null,
   "metadata": {},
   "outputs": [],
   "source": []
  },
  {
   "cell_type": "code",
   "execution_count": null,
   "metadata": {},
   "outputs": [],
   "source": []
  }
 ],
 "metadata": {
  "kernelspec": {
   "display_name": "Python 3",
   "language": "python",
   "name": "python3"
  },
  "language_info": {
   "codemirror_mode": {
    "name": "ipython",
    "version": 3
   },
   "file_extension": ".py",
   "mimetype": "text/x-python",
   "name": "python",
   "nbconvert_exporter": "python",
   "pygments_lexer": "ipython3",
   "version": "3.7.7"
  }
 },
 "nbformat": 4,
 "nbformat_minor": 4
}
