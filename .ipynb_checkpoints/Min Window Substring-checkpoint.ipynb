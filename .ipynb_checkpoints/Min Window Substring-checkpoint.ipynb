{
 "cells": [
  {
   "cell_type": "markdown",
   "metadata": {},
   "source": [
    "## Min Window Substring  \n",
    "\n",
    "Have the function MinWindowSubstring(strArr) take the array of strings stored in strArr, which will contain only two strings, the first parameter being the string N and the second parameter being a string K of some characters, and your goal is to determine the smallest substring of N that contains all the characters in K.  \n",
    "\n",
    "For example: if strArr is [\"aaabaaddae\", \"aed\"] then the smallest substring of N that contains the characters a, e, and d is \"dae\" located at the end of the string. So for this example your program should return the string dae.\n",
    "\n",
    "Another example: if strArr is [\"aabdccdbcacd\", \"aad\"] then the smallest substring of N that contains all of the characters in K is \"aabd\" which is located at the beginning of the string. Both parameters will be strings ranging in length from 1 to 50 characters and all of K's characters will exist somewhere in the string N. Both strings will only contains lowercase alphabetic characters.  \n",
    "\n",
    "Examples  \n",
    "Input: {\"ahffaksfajeeubsne\", \"jefaa\"}  \n",
    "Output: aksfaje  \n",
    "Input: {\"aaffhkksemckelloe\", \"fhea\"}  \n",
    "Output: affhkkse  \n",
    "\n"
   ]
  },
  {
   "cell_type": "code",
   "execution_count": 11,
   "metadata": {},
   "outputs": [
    {
     "name": "stdout",
     "output_type": "stream",
     "text": [
      "Letter a\n",
      "Char a\n",
      "String a\n",
      "Letters ['a', 'a', 'b', 'a', 'a', 'd', 'd', 'a', 'e']\n",
      "--------- Break ----------- \n",
      "\n",
      "Letter a\n",
      "Char e\n",
      "Char d\n",
      "String aa\n",
      "Letters ['a', 'b', 'a', 'a', 'd', 'd', 'a', 'e']\n"
     ]
    }
   ],
   "source": [
    "# strArrs = {\"aed\":\"aaabaaddae\", \"aad\":\"aabdccdbcacd\", \"jefaa\":\"ahffaksfajeeubsne\", \"fhea\":\"aaffhkksemckelloe\"}\n",
    "\n",
    "strArrs = {\"aed\":\"aaabaaddae\"}\n",
    "\n",
    "strings = []\n",
    "string = ''\n",
    "\n",
    "for (k, v) in strArrs.items(): # loop throught the dictionary of test cases\n",
    "    chars = list(k)            # Creat a list of the chars in the substring\n",
    "    letters = list(v)          # Creat a list of the letters in the string\n",
    "    \n",
    "    # Find the first letter\n",
    "    for letter in letters:         # Loop through the letters\n",
    "        print('Letter', letter)\n",
    "        for char in chars:         # Loop through the Chars\n",
    "            print('Char', char)\n",
    "            if char == letter:     # If they match\n",
    "                string += letter   # Add the letter to the string\n",
    "                print('String', string)\n",
    "                chars.remove(char) # Remove our found char\n",
    "                letters = letters[letters.index(letter)+1 :] # Remove all letters up to the fist one found\n",
    "                print('Letters', letters)\n",
    "                print('--------- Break ----------- \\n')\n",
    "                break\n",
    "        else:\n",
    "            string += letter       # Add the letter to the string\n",
    "            print('String', string)\n",
    "            letters = letters[1:]  # Remove the first letter\n",
    "            print('Letters', letters)\n",
    "            break\n"
   ]
  },
  {
   "cell_type": "code",
   "execution_count": null,
   "metadata": {},
   "outputs": [],
   "source": []
  }
 ],
 "metadata": {
  "kernelspec": {
   "display_name": "Python 3",
   "language": "python",
   "name": "python3"
  },
  "language_info": {
   "codemirror_mode": {
    "name": "ipython",
    "version": 3
   },
   "file_extension": ".py",
   "mimetype": "text/x-python",
   "name": "python",
   "nbconvert_exporter": "python",
   "pygments_lexer": "ipython3",
   "version": "3.7.7"
  }
 },
 "nbformat": 4,
 "nbformat_minor": 4
}
