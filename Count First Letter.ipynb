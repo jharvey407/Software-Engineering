{
 "cells": [
  {
   "cell_type": "markdown",
   "metadata": {},
   "source": [
    "1.\n",
    "Create a function named count_first_letter that takes a dictionary named names as a parameter. names should be a dictionary where the key is a last name and the value is a list of first names. For example, the dictionary might look like this:\n",
    "\n",
    "names = {\"Stark\": [\"Ned\", \"Robb\", \"Sansa\"], \"Snow\" : [\"Jon\"], \"Lannister\": [\"Jaime\", \"Cersei\", \"Tywin\"]}\n",
    "The function should return a new dictionary where each key is the first letter of a last name, and the value is the number of people whose last name begins with that letter.\n",
    "\n",
    "So in example above, the function would return:\n",
    "\n",
    "{\"S\" : 4, \"L\": 3}"
   ]
  },
  {
   "cell_type": "code",
   "execution_count": 1,
   "metadata": {},
   "outputs": [
    {
     "name": "stdout",
     "output_type": "stream",
     "text": [
      "{'S': 4, 'L': 3}\n",
      "{'S': 7}\n",
      "{'S': 4, 'L': 3, 'H': 4}\n"
     ]
    }
   ],
   "source": [
    "# Write your count_first_letter function here:\n",
    "def count_first_letter(names):\n",
    "  output = {}\n",
    "  for last_name in names:\n",
    "    if last_name[0] not in output:\n",
    "      output[last_name[0]] = len(names[last_name])\n",
    "    else:\n",
    "      output[last_name[0]] = output[last_name[0]] + len(names[last_name])\n",
    "  return(output)\n",
    "\n",
    "# Uncomment these function calls to test your  function:\n",
    "print(count_first_letter({\"Stark\": [\"Ned\", \"Robb\", \"Sansa\"], \"Snow\" : [\"Jon\"], \"Lannister\": [\"Jaime\", \"Cersei\", \"Tywin\"]}))\n",
    "# should print {\"S\": 4, \"L\": 3}\n",
    "print(count_first_letter({\"Stark\": [\"Ned\", \"Robb\", \"Sansa\"], \"Snow\" : [\"Jon\"], \"Sannister\": [\"Jaime\", \"Cersei\", \"Tywin\"]}))\n",
    "# should print {\"S\": 7}\n",
    "print(count_first_letter({\"Stark\": [\"Ned\", \"Robb\", \"Sansa\"], \"Snow\" : [\"Jon\"], \"Lannister\": [\"Jaime\", \"Cersei\", \"Tywin\"], \"Harvey\": [\"Steve\", \"Mary\", \"James\", \"Kerry\"]}))"
   ]
  },
  {
   "cell_type": "markdown",
   "metadata": {},
   "source": [
    "The hint they provided:\n",
    "\n",
    "Begin by creating an empty dictionary named something like letters. Loop through the keys of names and access the first letter of each the key using key[0].\n",
    "\n",
    "If that letter is not a key in letters, create a new key/value pair where the key is key[0] and the value is the length of names[key].\n",
    "\n",
    "If that letter is a key in letters, simply add the length of names[key] to value associated with key[0] in letters."
   ]
  },
  {
   "cell_type": "code",
   "execution_count": null,
   "metadata": {},
   "outputs": [],
   "source": []
  }
 ],
 "metadata": {
  "kernelspec": {
   "display_name": "Python 3",
   "language": "python",
   "name": "python3"
  },
  "language_info": {
   "codemirror_mode": {
    "name": "ipython",
    "version": 3
   },
   "file_extension": ".py",
   "mimetype": "text/x-python",
   "name": "python",
   "nbconvert_exporter": "python",
   "pygments_lexer": "ipython3",
   "version": "3.7.7"
  }
 },
 "nbformat": 4,
 "nbformat_minor": 4
}
