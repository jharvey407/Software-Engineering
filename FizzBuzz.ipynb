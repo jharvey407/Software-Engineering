{
 "cells": [
  {
   "cell_type": "markdown",
   "metadata": {},
   "source": [
    "FizzBuzz Interview Question\n",
    "Create a function that takes a number as an argument and returns \"Fizz\", \"Buzz\" or \"FizzBuzz\".\n",
    "\n",
    "If the number is a multiple of 3 the output should be \"Fizz\".\n",
    "If the number given is a multiple of 5, the output should be \"Buzz\".\n",
    "If the number given is a multiple of both 3 and 5, the output should be \"FizzBuzz\".\n",
    "If the number is not a multiple of either 3 or 5, the number should be output on its own as shown in the examples below.\n",
    "The output should always be a string even if it is not a multiple of 3 or 5\n",
    "\n",
    "Examples\n",
    "\n",
    "fizz_buzz(3) ➞ \"Fizz\"\n",
    "\n",
    "fizz_buzz(5) ➞ \"Buzz\"\n",
    "\n",
    "fizz_buzz(15) ➞ \"FizzBuzz\"\n",
    "\n",
    "fizz_buzz(4) ➞ \"4\"\n",
    "\n",
    "Notes:\n",
    "    \n",
    "\n",
    "Try to be precise with how you spell things and where you put the capital letters.\n",
    "If you get stuck on a challenge, find help in the Resources tab.\n",
    "If you're really stuck, unlock solutions in the Solutions tab.\n"
   ]
  },
  {
   "cell_type": "code",
   "execution_count": 2,
   "metadata": {},
   "outputs": [
    {
     "name": "stdout",
     "output_type": "stream",
     "text": [
      "Fizz\n",
      "Buzz\n",
      "FizzBuzz\n",
      "4\n",
      "Fizz\n"
     ]
    }
   ],
   "source": [
    "\n",
    "def fizz_buzz(num):\n",
    "    \n",
    "    output = ''            # define empty string to build output\n",
    "    \n",
    "    if num % 3 == 0:       # Use modulo operator to check for divisible by 3 (no remainder)\n",
    "        output += 'Fizz'   # If divisible add Fizz to ouput\n",
    "        \n",
    "    if num % 5 == 0:       # Check divisible by 5\n",
    "        output += 'Buzz'\n",
    "        \n",
    "    if num % 3 != 0 and num % 5 != 0:    # If divisible by neither add num to output\n",
    "        output += str(num)\n",
    "        \n",
    "    return(output)\n",
    "\n",
    "# Tests\n",
    "print(fizz_buzz(3))\n",
    "print(fizz_buzz(5))\n",
    "print(fizz_buzz(15))\n",
    "print(fizz_buzz(4))\n",
    "print(fizz_buzz(21))"
   ]
  },
  {
   "cell_type": "markdown",
   "metadata": {},
   "source": [
    "\n",
    "I've seen examples where string concantenation was done based on a logical operator, such as IF TRUE add string.\n",
    "\n",
    "Our if statement should return a True or False"
   ]
  },
  {
   "cell_type": "code",
   "execution_count": 3,
   "metadata": {},
   "outputs": [
    {
     "name": "stdout",
     "output_type": "stream",
     "text": [
      "True\n"
     ]
    }
   ],
   "source": [
    "print(3 % 3 == 0)"
   ]
  },
  {
   "cell_type": "markdown",
   "metadata": {},
   "source": [
    "We should be able to use that to control concantenation, or at least printing"
   ]
  },
  {
   "cell_type": "code",
   "execution_count": 4,
   "metadata": {},
   "outputs": [
    {
     "name": "stdout",
     "output_type": "stream",
     "text": [
      "Test One: Hello world.\n",
      "Test Two: \n"
     ]
    }
   ],
   "source": [
    "print('Test One: ' + 'Hello world.' * True)\n",
    "print('Test Two: ' + 'Hello world.'* False)"
   ]
  },
  {
   "cell_type": "markdown",
   "metadata": {},
   "source": [
    "It worked, we should be able to condense our operations"
   ]
  },
  {
   "cell_type": "code",
   "execution_count": 5,
   "metadata": {},
   "outputs": [
    {
     "name": "stdout",
     "output_type": "stream",
     "text": [
      "Fizz\n",
      "Buzz\n",
      "FizzBuzz\n",
      "4\n",
      "Fizz\n"
     ]
    }
   ],
   "source": [
    "def fizz_buzz(num):\n",
    "    \n",
    "    return('Fizz' * (num % 3 == 0) + 'Buzz' * (num % 5 == 0) + (str(num) * (num % 3 != 0 and num % 5 != 0)))\n",
    "    \n",
    "# Tests\n",
    "print(fizz_buzz(3))\n",
    "print(fizz_buzz(5))\n",
    "print(fizz_buzz(15))\n",
    "print(fizz_buzz(4))\n",
    "print(fizz_buzz(21))"
   ]
  },
  {
   "cell_type": "markdown",
   "metadata": {},
   "source": [
    "After a bit or reading I  learned that I might be able to use the OR statement as an ELSE if neither of the first two opertations returned true"
   ]
  },
  {
   "cell_type": "code",
   "execution_count": 6,
   "metadata": {},
   "outputs": [
    {
     "name": "stdout",
     "output_type": "stream",
     "text": [
      "Fizz\n",
      "Buzz\n",
      "FizzBuzz\n",
      "4\n",
      "Fizz\n"
     ]
    }
   ],
   "source": [
    "def fizz_buzz(num):\n",
    "    \n",
    "    return('Fizz' * (num % 3 == 0) + 'Buzz' * (num % 5 == 0) or str(num))\n",
    "    \n",
    "# Tests\n",
    "print(fizz_buzz(3))\n",
    "print(fizz_buzz(5))\n",
    "print(fizz_buzz(15))\n",
    "print(fizz_buzz(4))\n",
    "print(fizz_buzz(21))"
   ]
  },
  {
   "cell_type": "markdown",
   "metadata": {},
   "source": [
    "Profit!"
   ]
  },
  {
   "cell_type": "code",
   "execution_count": 8,
   "metadata": {},
   "outputs": [
    {
     "name": "stdout",
     "output_type": "stream",
     "text": [
      "0 = FizzBuzz\n",
      "1 = 1\n",
      "2 = 2\n",
      "3 = Fizz\n",
      "4 = 4\n",
      "5 = Buzz\n",
      "6 = Fizz\n",
      "7 = 7\n",
      "8 = 8\n",
      "9 = Fizz\n",
      "10 = Buzz\n",
      "11 = 11\n",
      "12 = Fizz\n",
      "13 = 13\n",
      "14 = 14\n",
      "15 = FizzBuzz\n",
      "16 = 16\n",
      "17 = 17\n",
      "18 = Fizz\n",
      "19 = 19\n",
      "20 = Buzz\n",
      "21 = Fizz\n",
      "22 = 22\n",
      "23 = 23\n",
      "24 = Fizz\n",
      "25 = Buzz\n",
      "26 = 26\n",
      "27 = Fizz\n",
      "28 = 28\n",
      "29 = 29\n",
      "30 = FizzBuzz\n",
      "31 = 31\n",
      "32 = 32\n",
      "33 = Fizz\n",
      "34 = 34\n",
      "35 = Buzz\n",
      "36 = Fizz\n",
      "37 = 37\n",
      "38 = 38\n",
      "39 = Fizz\n",
      "40 = Buzz\n",
      "41 = 41\n",
      "42 = Fizz\n",
      "43 = 43\n",
      "44 = 44\n",
      "45 = FizzBuzz\n",
      "46 = 46\n",
      "47 = 47\n",
      "48 = Fizz\n",
      "49 = 49\n",
      "50 = Buzz\n",
      "51 = Fizz\n",
      "52 = 52\n",
      "53 = 53\n",
      "54 = Fizz\n",
      "55 = Buzz\n",
      "56 = 56\n",
      "57 = Fizz\n",
      "58 = 58\n",
      "59 = 59\n",
      "60 = FizzBuzz\n",
      "61 = 61\n",
      "62 = 62\n",
      "63 = Fizz\n",
      "64 = 64\n",
      "65 = Buzz\n",
      "66 = Fizz\n",
      "67 = 67\n",
      "68 = 68\n",
      "69 = Fizz\n",
      "70 = Buzz\n",
      "71 = 71\n",
      "72 = Fizz\n",
      "73 = 73\n",
      "74 = 74\n",
      "75 = FizzBuzz\n",
      "76 = 76\n",
      "77 = 77\n",
      "78 = Fizz\n",
      "79 = 79\n",
      "80 = Buzz\n",
      "81 = Fizz\n",
      "82 = 82\n",
      "83 = 83\n",
      "84 = Fizz\n",
      "85 = Buzz\n",
      "86 = 86\n",
      "87 = Fizz\n",
      "88 = 88\n",
      "89 = 89\n",
      "90 = FizzBuzz\n",
      "91 = 91\n",
      "92 = 92\n",
      "93 = Fizz\n",
      "94 = 94\n",
      "95 = Buzz\n",
      "96 = Fizz\n",
      "97 = 97\n",
      "98 = 98\n",
      "99 = Fizz\n"
     ]
    }
   ],
   "source": [
    "# Big Test\n",
    "for num in range(100):\n",
    "    print(str(num) + ' = ' + fizz_buzz(num))"
   ]
  },
  {
   "cell_type": "code",
   "execution_count": null,
   "metadata": {},
   "outputs": [],
   "source": []
  }
 ],
 "metadata": {
  "kernelspec": {
   "display_name": "Python 3",
   "language": "python",
   "name": "python3"
  },
  "language_info": {
   "codemirror_mode": {
    "name": "ipython",
    "version": 3
   },
   "file_extension": ".py",
   "mimetype": "text/x-python",
   "name": "python",
   "nbconvert_exporter": "python",
   "pygments_lexer": "ipython3",
   "version": "3.8.5"
  },
  "toc": {
   "base_numbering": 1,
   "nav_menu": {},
   "number_sections": true,
   "sideBar": true,
   "skip_h1_title": false,
   "title_cell": "Table of Contents",
   "title_sidebar": "Contents",
   "toc_cell": false,
   "toc_position": {},
   "toc_section_display": true,
   "toc_window_display": false
  }
 },
 "nbformat": 4,
 "nbformat_minor": 4
}
