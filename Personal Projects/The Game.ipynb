{
 "cells": [
  {
   "cell_type": "markdown",
   "metadata": {},
   "source": [
    "# The Game\n",
    "\n",
    "The game is simple, you start at the bottom of a staircase, your goal is to reach step 60. The rules are simple:\n",
    "\n",
    "You roll one die and move either up or down depending on the number rolled.  \n",
    "1 or 2: Down one step  \n",
    "3, 4, 5: Up one step  \n",
    "6: Roll again and do as follows:  \n",
    "> 1, 3, 5: Down the number of the roll  \n",
    "2, 4, 6: Up the number of the roll\n",
    "\n",
    "What are the odds that you’ll win this game if given 100 rolls of the die? \n"
   ]
  },
  {
   "cell_type": "code",
   "execution_count": 19,
   "metadata": {},
   "outputs": [
    {
     "name": "stdout",
     "output_type": "stream",
     "text": [
      "Highest step reached: 105\n",
      "Number of games played: 100000\n",
      "Number of games won: 4821\n",
      "The chance of winning this game is: 0.04821\n"
     ]
    },
    {
     "data": {
      "image/png": "[encoded data removed]",
      "text/plain": [
       "<Figure size 432x288 with 1 Axes>"
      ]
     },
     "metadata": {
      "needs_background": "light"
     },
     "output_type": "display_data"
    }
   ],
   "source": [
    "import random\n",
    "import matplotlib.pyplot as plt\n",
    "\n",
    "\n",
    "down = [1, 3, 5] # Die roll for up after rolling 6\n",
    "up = [2, 4, 6] # Die roll for down after rolling 6\n",
    "highest_step = [] # List to hold the highest step reached\n",
    "test = 100000 # The number of times we are going to run our test\n",
    "\n",
    "for x in range(test): \n",
    "    step = 0 # Start at the bottom step\n",
    "    high_step = 0 # Highest step reached during each game\n",
    "    \n",
    "    for roll in range(100):                    # Roll the die 100 time\n",
    "        die = random.randint(1,6)\n",
    "        if die == 1 or die == 2:\n",
    "            step = max (0, step - 1)\n",
    "\n",
    "        elif die >= 3 and die <= 5:\n",
    "            step += 1\n",
    "\n",
    "        else:\n",
    "            die = random.randint(1,6)\n",
    "            try:\n",
    "                step = max(0, step + up[(up.index(die))])\n",
    "            except:\n",
    "                step = max(0, step - down[(down.index(die))])\n",
    "\n",
    "        if step > high_step:\n",
    "            high_step = step\n",
    "            \n",
    "    highest_step.append(high_step)\n",
    "print('Highest step reached:', max(highest_step))\n",
    "print('Number of games played:', test)\n",
    "won = len([i for i in highest_step if i >= 60])\n",
    "print('Number of games won:',won )\n",
    "print('The chance of winning this game is:', won/test)\n",
    "plt.hist(highest_step, bins=20)\n",
    "plt.show()\n",
    "            \n",
    "    "
   ]
  },
  {
   "cell_type": "code",
   "execution_count": null,
   "metadata": {},
   "outputs": [],
   "source": []
  },
  {
   "cell_type": "code",
   "execution_count": null,
   "metadata": {},
   "outputs": [],
   "source": []
  }
 ],
 "metadata": {
  "kernelspec": {
   "display_name": "Python 3",
   "language": "python",
   "name": "python3"
  },
  "language_info": {
   "codemirror_mode": {
    "name": "ipython",
    "version": 3
   },
   "file_extension": ".py",
   "mimetype": "text/x-python",
   "name": "python",
   "nbconvert_exporter": "python",
   "pygments_lexer": "ipython3",
   "version": "3.7.7"
  }
 },
 "nbformat": 4,
 "nbformat_minor": 4
}
