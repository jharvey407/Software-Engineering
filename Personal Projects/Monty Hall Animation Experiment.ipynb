{
 "cells": [
  {
   "cell_type": "markdown",
   "metadata": {},
   "source": [
    "# The Monty Hall Problem\n",
    "\n",
    "#### Suppose you're on a game show, and you're given the choice of three doors: Behind one door is a car; behind the others, goats. You pick a door, say No. 1, and the host, who knows what's behind the doors, opens another door, say No. 3, which has a goat. He then says to you, \"Do you want to pick door No. 2?\" Is it to your advantage to switch your choice?\n",
    "\n",
    "The given probabilities depend on specific assumptions about how the host and contestant choose their doors. A key insight is that, under these standard conditions, there is more information about doors 2 and 3 than was available at the beginning of the game when door 1 was chosen by the player: the host's deliberate action adds value to the door he did not choose to eliminate, but not to the one chosen by the contestant originally. Another insight is that switching doors is a different action than choosing between the two remaining doors at random, as the first action uses the previous information and the latter does not. Other possible behaviors than the one described can reveal different additional information, or none at all, and yield different probabilities. Yet another insight is that your chance of winning by switching doors is directly related to your chance of choosing the winning door in the first place: if you choose the correct door on your first try, then switching loses; if you choose a wrong door on your first try, then switching wins; your chance of choosing the correct door on your first try is 1/3, and the chance of choosing a wrong door is 2/3.\n",
    "\n",
    "###### We are going to test this by running 10,000 simulations, or maybe less if that's all it takes.\n",
    "\n",
    "### Test Problem\n",
    "First we are going to graph the outcome of a random event that we know has a probability of 2/3, rolling a single die and getting any of the number from 1 to 4. The probability of rolling 1-4 is 4/6 = 2/3 or 2 out of 3.\n",
    "\n",
    "###### Our graph should settle at about 66%"
   ]
  },
  {
   "cell_type": "code",
   "execution_count": 1,
   "metadata": {},
   "outputs": [],
   "source": [
    "import random\n",
    "import matplotlib.pyplot as plt\n",
    "import numpy as np\n",
    "from matplotlib.animation import FuncAnimation\n",
    "from IPython.display import HTML\n",
    "\n",
    "games_won = 0\n",
    "avg_won = []\n",
    "\n",
    "for games in range(1, 500):\n",
    "    roll = random.randint(1,6)\n",
    "    if roll >=1 and roll <=4:\n",
    "        games_won += 1\n",
    "    try:    \n",
    "        average = games_won/games\n",
    "    except:\n",
    "        pass\n",
    "    avg_won.append(average)\n"
   ]
  },
  {
   "cell_type": "code",
   "execution_count": null,
   "metadata": {},
   "outputs": [],
   "source": [
    "fig = plt.figure(figsize=(10, 10))\n",
    "ax = plt.axes(xlim=(1, 500), ylim=(0, 1))\n",
    "line, = ax.plot([], [], lw=3)\n",
    "\n",
    "plt.xlabel('Games Played', fontsize=36)\n",
    "plt.xticks(fontsize=24)\n",
    "plt.grid()\n",
    "plt.ylabel('Percentage Won', fontsize=36)\n",
    "plt.ylim(0,1)\n",
    "positions = (0, .2, .4, .6, .66, .8, 1)\n",
    "labels = ('0', '20', '40', '60', '66', '80', '100')\n",
    "plt.yticks(positions, labels, fontsize=24)\n",
    "\n"
   ]
  },
  {
   "cell_type": "code",
   "execution_count": null,
   "metadata": {},
   "outputs": [],
   "source": [
    "    \n",
    "\n",
    "def init():\n",
    "    line.set_data([], [])\n",
    "    return line,\n",
    "\n",
    "xdata, ydata = [],[]\n",
    "\n",
    "def animate(i):\n",
    "    x = i\n",
    "    y = avg_won[i]\n",
    "    xdata.append(x)\n",
    "    ydata.append(y)\n",
    "    line.set_data(xdata, ydata)\n",
    "    return line,\n",
    "\n",
    "anim = FuncAnimation(fig, animate, init_func=init, frames=499, interval=20, blit=True)\n",
    "\n",
    "# anim.save('Mony Hall.gif',writer='imagemagick')\n",
    "\n",
    "HTML(anim.to_jshtml())\n"
   ]
  },
  {
   "cell_type": "markdown",
   "metadata": {},
   "source": [
    "## The Game Show\n",
    "\n",
    "Now we are going to do the same type of test with the Monty Hall Problem"
   ]
  },
  {
   "cell_type": "code",
   "execution_count": null,
   "metadata": {},
   "outputs": [],
   "source": [
    "import random\n",
    "import matplotlib.pyplot as plt\n",
    "import numpy as np\n",
    "\n",
    "test = 1000\n",
    "wins = 0\n",
    "success = []\n",
    "\n",
    "for games in range(1, test):\n",
    "    the_goats = []\n",
    "\n",
    "    the_doors = [1, 2, 3]                  # The three doors.\n",
    "    \n",
    "    the_car = random.randint(1,3)          # The door with the car.\n",
    "    \n",
    "    the_choice = random.randint(1,3)       # The first door choosen.\n",
    "    \n",
    "    the_goats = the_doors.copy()           # Remove the car and all that remains are goats.\n",
    "    the_goats.remove(the_car)\n",
    "    \n",
    "    if the_goats.count(the_choice) > 0:    # The goat door can't be equal to the choice door\n",
    "        the_goats.remove(the_choice)\n",
    "    \n",
    "    if len(the_goats) > 1:\n",
    "        the_reveal = the_goats[random.randint(0, 1)]  # Reveal a goat\n",
    "    else:\n",
    "        the_reveal = the_goats[0]\n",
    "        \n",
    "    the_remaining = the_doors.copy()       # Figure out which doors remain\n",
    "    the_remaining.remove(the_reveal)\n",
    "    \n",
    "    the_switch = the_remaining.copy()      # Switch the doors\n",
    "    the_switch.remove(the_choice)\n",
    "    \n",
    "    if the_car == the_switch[0]:           # If the car is behind the switch door, you win!\n",
    "        wins += 1\n",
    "    \n",
    "    success.append(wins/games)             # Calculate the average\n",
    "\n",
    "plt.figure(figsize=(20,10))\n",
    "plt.xlabel('Games Played', fontsize=36)\n",
    "plt.xticks(fontsize=24)\n",
    "plt.grid()\n",
    "plt.ylabel('Percentage Won', fontsize=36)\n",
    "plt.ylim(0,1)\n",
    "positions = (0, .2, .4, .6, .66, .8, 1)\n",
    "labels = ('0', '20', '40', '60', '66', '80', '100')\n",
    "plt.yticks(positions, labels, fontsize=24)\n",
    "art.Artist.set_animated\n",
    "plt.plot(success)\n",
    "plt.show()"
   ]
  },
  {
   "cell_type": "code",
   "execution_count": null,
   "metadata": {},
   "outputs": [],
   "source": []
  }
 ],
 "metadata": {
  "kernelspec": {
   "display_name": "Python 3",
   "language": "python",
   "name": "python3"
  },
  "language_info": {
   "codemirror_mode": {
    "name": "ipython",
    "version": 3
   },
   "file_extension": ".py",
   "mimetype": "text/x-python",
   "name": "python",
   "nbconvert_exporter": "python",
   "pygments_lexer": "ipython3",
   "version": "3.8.5"
  }
 },
 "nbformat": 4,
 "nbformat_minor": 4
}
