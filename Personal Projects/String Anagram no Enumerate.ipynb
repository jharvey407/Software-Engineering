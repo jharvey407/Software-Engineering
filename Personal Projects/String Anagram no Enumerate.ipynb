{
 "cells": [
  {
   "cell_type": "code",
   "execution_count": 1,
   "metadata": {},
   "outputs": [
    {
     "name": "stdout",
     "output_type": "stream",
     "text": [
      "[2, 1, 2, 3]\n",
      "[3, 2, 0]\n",
      "[2, 2, 0, 3, 1]\n"
     ]
    }
   ],
   "source": [
    "def stringAnagram(dictionary, query):\n",
    "    anagrams = [0] * len(query)                 # List of zeros for storing the number of anagrams found\n",
    "    for word in query:                          # Loop through words in query\n",
    "        an_count = 0                            # Set the anagram counter to 0\n",
    "        for string in dictionary:               # Test against each string in dictionary\n",
    "            if sorted(word) == sorted(string):  # If sorted strings match they are anagrams\n",
    "                an_count += 1                   # Increase our counter of anagrams\n",
    "        anagrams[query.index(word)] = an_count  # Update the count in anagrams list\n",
    "    return(anagrams)                            # Return the list\n",
    "\n",
    "# Test 1\n",
    "dictionary = ['listen', 'tow', 'silent', 'lisent', 'two', 'abc', 'no', 'on']\n",
    "query = ['two', 'bca', 'no', 'listen']\n",
    "print(stringAnagram(dictionary, query))\n",
    "# The final answer is [2, 1, 2, 3].\n",
    "\n",
    "# Test 2\n",
    "dictionary = ['heater', 'cold', 'clod', 'reheat', 'docl']\n",
    "query = ['codl', 'heater', 'abcd']\n",
    "print(stringAnagram(dictionary, query))\n",
    "# The final answer is [3, 2, 0].\n",
    "\n",
    "# Test 3\n",
    "dictionary = ['hack', 'a', 'rank', 'khac', 'ackh', 'kran', 'rankhacker', 'a', 'ab', 'ba', 'stairs', 'raits']\n",
    "query = [\"a\", \"nark\", \"bs\", \"hack\", \"stair\"]\n",
    "print(stringAnagram(dictionary, query))\n",
    "# The final answer is [2, 2, 0, 3, 1].\n"
   ]
  },
  {
   "cell_type": "code",
   "execution_count": null,
   "metadata": {},
   "outputs": [],
   "source": []
  }
 ],
 "metadata": {
  "kernelspec": {
   "display_name": "Python 3",
   "language": "python",
   "name": "python3"
  },
  "language_info": {
   "codemirror_mode": {
    "name": "ipython",
    "version": 3
   },
   "file_extension": ".py",
   "mimetype": "text/x-python",
   "name": "python",
   "nbconvert_exporter": "python",
   "pygments_lexer": "ipython3",
   "version": "3.7.7"
  }
 },
 "nbformat": 4,
 "nbformat_minor": 4
}
