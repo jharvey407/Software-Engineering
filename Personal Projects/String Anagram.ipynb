{
 "cells": [
  {
   "cell_type": "markdown",
   "metadata": {},
   "source": [
    "# String Anagram  \n",
    "An anagram of a string is another string with the same characters in the same frequency, in any order. For example 'abc', 'bca', 'acb', 'bac', 'cba', 'cab' are all anagrams of the string 'abc'. \n",
    "\n",
    "Given two arrays of strings, for every string in one list, determine how many anagrams of it are in the other list. \n",
    "\n",
    "Write a function that receives dictionary and query, two string arrays. It should return an array of integers where each element i contains the number of anagrams of query[i] that exist in dictionary.\n",
    "\n",
    " \n",
    "\n",
    "### Example\n",
    "\n",
    "dictionary = ['hack', 'a', 'rank', 'khac', 'ackh', 'kran', 'rankhacker', 'a', 'ab', 'ba', 'stairs', 'raits']\n",
    "query = [\"a\", \"nark\", \"bs\", \"hack\", \"stair\"]\n",
    "\n",
    " \n",
    "\n",
    "query[0] = 'a' has 2 anagrams in dictionary: 'a' and 'a'.  \n",
    "query[1] = 'nark' has 2 anagrams in dictionary: 'rank' and 'kran'.  \n",
    "query[2] = 'bs' has 0 anagrams in dictionary.  \n",
    "query[3] = 'hack' has 3 anagrams in dictionary: 'hack', 'khac' and 'ackh'.  \n",
    "query[4] = 'stair' has 1 anagram in dictionary: 'raits'.   \n",
    "While the characters are the same in 'stairs', the frequency of 's' differs, so it is not an anagram.  \n",
    "\n",
    "The final answer is [2, 2, 0, 3, 1].\n",
    "\n",
    " \n",
    "### Function Description\n",
    "\n",
    "Write a function stringAnagram in the editor below.\n",
    "stringAnagram has the following parameters:\n",
    "\n",
    "    string dictionary[n]: an array of strings to search in\n",
    "\n",
    "    string query[q]: an array of strings to search for\n",
    "\n",
    "Returns\n",
    "\n",
    "    int[q]: an array of integers where the ith value is the answer to query[i]\n",
    "\n",
    "Constraints\n",
    "\n",
    "1 ≤ length(dictionary), length(query) ≤ 105\n",
    "1 ≤ length(dictionary[i]) ≤ 15\n",
    "1 ≤ length(query[i]) ≤ 15\n",
    "Every string consists of lowercase English letters.\n",
    "Input Format For Custom Testing\n",
    "\n",
    "### Sample Case 0  \n",
    "\n",
    "##### Sample Input\n",
    "\n",
    "dictionary = ['heater', 'cold', 'clod', 'reheat', 'docl']  \n",
    "query = ['codl', 'heater', 'abcd']\n",
    "\n",
    "##### Sample Output\n",
    "\n",
    "3  \n",
    "2  \n",
    "0\n",
    "\n",
    "##### Explanation\n",
    "\n",
    "query[0] = 'codl' has 3 anagrams in dictionary: 'cold', 'clod' and 'docl'.\n",
    "\n",
    "query[1] = 'heater' has 2 anagrams in dictionary: 'heater' and 'reheat'.\n",
    "\n",
    "query[2] = 'abcd' has 0 anagrams in dictionary.\n",
    "\n",
    "The final answer is [3, 2, 0].\n",
    "\n",
    "### Sample Case 1  \n",
    "\n",
    "##### Sample Input\n",
    "\n",
    "dictionary = ['listen', 'tow', 'silent', 'lisent', 'two', 'abc', 'no', 'on']  \n",
    "query = ['two', 'bca', 'no', 'listen']\n",
    "\n",
    "##### Sample Output\n",
    "\n",
    "2  \n",
    "1  \n",
    "2  \n",
    "3  \n",
    " \n",
    "\n",
    "##### Explanation\n",
    "\n",
    "query[0] = 'two' has 2 anagrams in dictionary: 'tow' and 'two'.\n",
    "\n",
    "query[1] = 'bca' has 1 anagram in dictionary: 'abc'.\n",
    "\n",
    "query[2] = 'no' has 2 anagrams in dictionary: 'no' and 'on'.\n",
    "\n",
    "query[3] = 'listen' has 3 anagrams in dictionary: 'listen', 'silent' and 'lisent'.\n",
    "\n",
    "The final answer is [2, 1, 2, 3]."
   ]
  },
  {
   "cell_type": "code",
   "execution_count": 4,
   "metadata": {},
   "outputs": [
    {
     "name": "stdout",
     "output_type": "stream",
     "text": [
      "[2, 1, 2, 3]\n",
      "[3, 2, 0]\n",
      "[2, 2, 0, 3, 1]\n"
     ]
    }
   ],
   "source": [
    "# Complete the 'stringAnagram' function below.\n",
    "#\n",
    "# The function is expected to return an INTEGER_ARRAY.\n",
    "# The function accepts following parameters:\n",
    "#  1. STRING_ARRAY dictionary\n",
    "#  2. STRING_ARRAY query\n",
    "#\n",
    "\n",
    "\n",
    "def stringAnagram(dictionary, query):\n",
    "    \n",
    "    anagrams = []                               # Empty list for output\n",
    "    for word in query:                          # For each word\n",
    "        an_count = 0                            # Start count at 0\n",
    "        for string in dictionary:               # Test against each string\n",
    "            if sorted(word) == sorted(string):  # If sorted strings match\n",
    "                an_count += 1                   # They are anagrams\n",
    "            else:\n",
    "                an_count = an_count             # Else it's not \n",
    "        anagrams.append(an_count)               # At the end of the dictionary add the number to the list\n",
    "    return(anagrams)                            # Return the list\n",
    "           \n",
    "# Test 1\n",
    "dictionary = ['listen', 'tow', 'silent', 'lisent', 'two', 'abc', 'no', 'on']\n",
    "query = ['two', 'bca', 'no', 'listen']\n",
    "print(stringAnagram(dictionary, query))\n",
    "# The final answer is [2, 1, 2, 3].\n",
    "\n",
    "# Test 2\n",
    "dictionary = ['heater', 'cold', 'clod', 'reheat', 'docl']\n",
    "query = ['codl', 'heater', 'abcd']\n",
    "print(stringAnagram(dictionary, query))\n",
    "# The final answer is [3, 2, 0].\n",
    "\n",
    "# Test 3\n",
    "dictionary = ['hack', 'a', 'rank', 'khac', 'ackh', 'kran', 'rankhacker', 'a', 'ab', 'ba', 'stairs', 'raits']\n",
    "query = [\"a\", \"nark\", \"bs\", \"hack\", \"stair\"]\n",
    "print(stringAnagram(dictionary, query))\n",
    "# The final answer is [2, 2, 0, 3, 1].\n"
   ]
  },
  {
   "cell_type": "markdown",
   "metadata": {},
   "source": [
    "## Pre-allocation of the anagrams list and removal of the else statement\n",
    "\n",
    "The previous example starts with an empty list called anagrams and either appends a 0 when there are no anangrams, or appends a an_count, the number of anagrams that we found. It has been brought to my attention by my friend Dave, that it is bettter to pre-allocate storage, and that the enumerate function can add an index to the list without adding an additional count variable.\n",
    "\n",
    "You can see some of Dr. Dave's work here on github. (Yes, he has a PhD.)\n",
    "https://github.com/dpm314\n"
   ]
  },
  {
   "cell_type": "markdown",
   "metadata": {},
   "source": [
    "### Lets learn about the enumerate() function.  \n",
    "\n",
    "The Python Documentation tells us this:  \n",
    "\n",
    "##### enumerate(iterable, start=0)\n",
    "Return an enumerate object. iterable must be a sequence, an iterator, or some other object which supports iteration. The __next__() method of the iterator returned by enumerate() returns a tuple containing a count (from start which defaults to 0) and the values obtained from iterating over iterable.\n",
    "\n",
    "Equivalent to:  \n",
    "  \n",
    "def enumerate(sequence, start=0):  \n",
    "&emsp;&emsp;n = start  \n",
    "&emsp;&emsp;for elem in sequence:  \n",
    "&emsp;&emsp;&emsp;&emsp;yield n, elem  \n",
    "&emsp;&emsp;&emsp;&emsp;n += 1  "
   ]
  },
  {
   "cell_type": "code",
   "execution_count": 5,
   "metadata": {},
   "outputs": [
    {
     "data": {
      "text/plain": [
       "[(0, 'Spring'), (1, 'Summer'), (2, 'Fall'), (3, 'Winter')]"
      ]
     },
     "execution_count": 5,
     "metadata": {},
     "output_type": "execute_result"
    }
   ],
   "source": [
    "# A short example\n",
    "seasons = ['Spring', 'Summer', 'Fall', 'Winter']  \n",
    "list(enumerate(seasons))  "
   ]
  },
  {
   "cell_type": "code",
   "execution_count": 6,
   "metadata": {},
   "outputs": [
    {
     "data": {
      "text/plain": [
       "[(1, 'Spring'), (2, 'Summer'), (3, 'Fall'), (4, 'Winter')]"
      ]
     },
     "execution_count": 6,
     "metadata": {},
     "output_type": "execute_result"
    }
   ],
   "source": [
    "list(enumerate(seasons, start=1))  "
   ]
  },
  {
   "cell_type": "markdown",
   "metadata": {},
   "source": [
    "   \n",
    "We see that it creats a list of tuples.\n",
    "\n",
    "We'll add it to our code, but let's take care of the pre-allocation first. Our output is supposed to be a list of integers containing the number of anagrams found for our strings in the list query, so we'll create a list the same length of the list query, and populate it with 0s, because our assumption is that there are no anagrams until proven.\n"
   ]
  },
  {
   "cell_type": "markdown",
   "metadata": {},
   "source": [
    "We'll then create our nested loops to compare our query against each entry in dictionary.  \n",
    "We'll use enumerate to add and index to out list query."
   ]
  },
  {
   "cell_type": "code",
   "execution_count": 8,
   "metadata": {},
   "outputs": [],
   "source": [
    "def stringAnagram(dictionary, query):\n",
    "    anagrams = [0] * len(query)                 # List of zeros for storing the number of anagrams found\n",
    "    for (index, word) in enumerate(query):      # Create an (Index, Word) tuple for each word in query and loop\n",
    "        an_count = 0                            # Set the anagram counter to 0\n",
    "        for string in dictionary:               # Test against each string\n",
    "            if sorted(word) == sorted(string):  # If sorted strings match they are anagrams\n",
    "                an_count += 1                   # Increase our counter of anagrams\n",
    "        anagrams[index] = an_count              # Update the count in anagrams list\n",
    "    return(anagrams)                            # Return the list"
   ]
  },
  {
   "cell_type": "code",
   "execution_count": 9,
   "metadata": {},
   "outputs": [
    {
     "name": "stdout",
     "output_type": "stream",
     "text": [
      "[2, 1, 2, 3]\n"
     ]
    }
   ],
   "source": [
    "# Test 1\n",
    "dictionary = ['listen', 'tow', 'silent', 'lisent', 'two', 'abc', 'no', 'on']\n",
    "query = ['two', 'bca', 'no', 'listen']\n",
    "print(stringAnagram(dictionary, query))\n",
    "# The final answer is [2, 1, 2, 3].\n"
   ]
  },
  {
   "cell_type": "code",
   "execution_count": 10,
   "metadata": {},
   "outputs": [
    {
     "name": "stdout",
     "output_type": "stream",
     "text": [
      "[3, 2, 0]\n"
     ]
    }
   ],
   "source": [
    "# Test 2\n",
    "dictionary = ['heater', 'cold', 'clod', 'reheat', 'docl']\n",
    "query = ['codl', 'heater', 'abcd']\n",
    "print(stringAnagram(dictionary, query))\n",
    "# The final answer is [3, 2, 0].\n"
   ]
  },
  {
   "cell_type": "code",
   "execution_count": 11,
   "metadata": {},
   "outputs": [
    {
     "name": "stdout",
     "output_type": "stream",
     "text": [
      "[2, 2, 0, 3, 1]\n"
     ]
    }
   ],
   "source": [
    "# Test 3\n",
    "dictionary = ['hack', 'a', 'rank', 'khac', 'ackh', 'kran', 'rankhacker', 'a', 'ab', 'ba', 'stairs', 'raits']\n",
    "query = [\"a\", \"nark\", \"bs\", \"hack\", \"stair\"]\n",
    "print(stringAnagram(dictionary, query))\n",
    "# The final answer is [2, 2, 0, 3, 1]."
   ]
  },
  {
   "cell_type": "code",
   "execution_count": null,
   "metadata": {},
   "outputs": [],
   "source": []
  },
  {
   "cell_type": "code",
   "execution_count": null,
   "metadata": {},
   "outputs": [],
   "source": []
  }
 ],
 "metadata": {
  "kernelspec": {
   "display_name": "Python 3",
   "language": "python",
   "name": "python3"
  },
  "language_info": {
   "codemirror_mode": {
    "name": "ipython",
    "version": 3
   },
   "file_extension": ".py",
   "mimetype": "text/x-python",
   "name": "python",
   "nbconvert_exporter": "python",
   "pygments_lexer": "ipython3",
   "version": "3.7.7"
  }
 },
 "nbformat": 4,
 "nbformat_minor": 4
}
