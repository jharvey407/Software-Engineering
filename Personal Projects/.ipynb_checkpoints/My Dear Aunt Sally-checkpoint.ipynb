{
 "cells": [
  {
   "cell_type": "code",
   "execution_count": 12,
   "metadata": {},
   "outputs": [],
   "source": [
    "# //\n",
    "# // Interview question:\n",
    "# // Write a function that parses and evaluates an arithmetic string\n",
    "# // Ex. \"1+2\", \"34-5*100\", \"10-20*30+40/50\"\n",
    "# // Positive integers separated by +, -, * or /. No parentheses\n",
    "# // You must respect the order of operations: *, / take precedence over +, -\n",
    "# // Do not use \"eval\" or 3rd party libraries.\n",
    "# // There is no timer, but this should take around 60 minutes to get a working \n",
    "# // solution. Do not spend more than two hours. Good luck!\n",
    "# //\n",
    "# \n",
    "# "
   ]
  },
  {
   "cell_type": "code",
   "execution_count": 16,
   "metadata": {},
   "outputs": [
    {
     "name": "stdout",
     "output_type": "stream",
     "text": [
      "Problem  33*3*4*5/6+1*12-4/6+80\n",
      "Solution 99.0*4*5/6+1*12-4/6+80\n",
      "Solution 396.0*5/6+1*12-4/6+80\n",
      "Solution 1980.0/6+1*12-4/6+80\n",
      "Solution 1980.0/6+12.0-4/6+80\n",
      "Solution 330.0+12.0-4/6+80\n",
      "Solution 330.0+12.0-0.67+80\n",
      "Solution 342.0-0.67+80\n",
      "Solution 342.0-80.67\n",
      "Solution 261.33\n"
     ]
    }
   ],
   "source": [
    "\n",
    "test = '33*3*4*5/6+1*12-4/6+80'\n",
    "print('Problem ', test)\n",
    "# Solve\n",
    "numbers = ['.', '0', '1', '2', '3', '4', '5', '6', '7', '8', '9']\n",
    "operators = ['*', '/', '+', '-' ]\n",
    "\n",
    "for operator in operators:\n",
    "    while operator in test:\n",
    "        index = test.find(operator)      # Find the operator\n",
    "       \n",
    "        # Find first number by moving backwards from operator\n",
    "        num1 = ''\n",
    "        while test[index-1] in numbers and index-1 >= 0:\n",
    "            num1 = num1 + test[index-1]\n",
    "            index -= 1\n",
    "        num1 = num1[::-1]\n",
    "\n",
    "        # Find second number by moving forward from operator to next operator\n",
    "        index = test.find(operator)\n",
    "        num2 = ''\n",
    "        while index <= len(test)-2 and test[index+1] in numbers:\n",
    "            num2 = num2 + test[index+1]\n",
    "            index += 1    \n",
    "\n",
    "        # Perform calculations based on operator\n",
    "        if operator == '*':\n",
    "            solution = round(float(num1) * float(num2), 2)\n",
    "        elif operator == '/':\n",
    "            solution = round(float(num1) / float(num2), 2)\n",
    "        elif operator == '+':\n",
    "            solution = round(float(num1) + float(num2), 2)\n",
    "        elif operator == '-':\n",
    "            solution = round(float(num1) - float(num2), 2)\n",
    "\n",
    "        # Replace formula with solutiom\n",
    "        formula = num1 + operator + num2                        \n",
    "        test = test.replace(formula, str(solution))\n",
    "\n",
    "        print('Solution', test)\n",
    "    \n",
    "    \n"
   ]
  },
  {
   "cell_type": "code",
   "execution_count": null,
   "metadata": {},
   "outputs": [],
   "source": [
    "        "
   ]
  },
  {
   "cell_type": "code",
   "execution_count": null,
   "metadata": {},
   "outputs": [],
   "source": []
  }
 ],
 "metadata": {
  "kernelspec": {
   "display_name": "Python 3",
   "language": "python",
   "name": "python3"
  },
  "language_info": {
   "codemirror_mode": {
    "name": "ipython",
    "version": 3
   },
   "file_extension": ".py",
   "mimetype": "text/x-python",
   "name": "python",
   "nbconvert_exporter": "python",
   "pygments_lexer": "ipython3",
   "version": "3.7.7"
  }
 },
 "nbformat": 4,
 "nbformat_minor": 4
}
