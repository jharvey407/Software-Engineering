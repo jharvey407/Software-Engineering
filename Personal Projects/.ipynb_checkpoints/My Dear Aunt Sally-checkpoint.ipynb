{
 "cells": [
  {
   "cell_type": "code",
   "execution_count": 12,
   "metadata": {},
   "outputs": [],
   "source": [
    "# //\n",
    "# // Interview question:\n",
    "# // Write a function that parses and evaluates an arithmetic string\n",
    "# // Ex. \"1+2\", \"34-5*100\", \"10-20*30+40/50\"\n",
    "# // Positive integers separated by +, -, * or /. No parentheses\n",
    "# // You must respect the order of operations: *, / take precedence over +, -\n",
    "# // Do not use \"eval\" or 3rd party libraries.\n",
    "# // There is no timer, but this should take around 60 minutes to get a working \n",
    "# // solution. Do not spend more than two hours. Good luck!\n",
    "# //\n",
    "# \n",
    "# "
   ]
  },
  {
   "cell_type": "code",
   "execution_count": 1,
   "metadata": {},
   "outputs": [
    {
     "name": "stdout",
     "output_type": "stream",
     "text": [
      "Problem  33*3*4*5/6+1*12-4/6+80\n",
      "Solution 99.0*4*5/6+1*12-4/6+80\n",
      "Solution 396.0*5/6+1*12-4/6+80\n",
      "Solution 1980.0/6+1*12-4/6+80\n",
      "Solution 1980.0/6+12.0-4/6+80\n",
      "Solution 330.0+12.0-4/6+80\n",
      "Solution 330.0+12.0-0.7+80\n",
      "Solution 342.0-0.7+80\n",
      "Solution 342.0-80.7\n",
      "Solution 261.3\n",
      "\n",
      "Problem  1+1+1+1+1+10*10-10/2\n",
      "Solution 1+1+1+1+1+100.0-10/2\n",
      "Solution 1+1+1+1+1+100.0-5.0\n",
      "Solution 2.0+1+1+1+100.0-5.0\n",
      "Solution 3.0+1+1+100.0-5.0\n",
      "Solution 4.0+1+100.0-5.0\n",
      "Solution 5.0+100.0-5.0\n",
      "Solution 105.0-5.0\n",
      "Solution 100.0\n",
      "\n",
      "Problem  10-20*30+40/50\n",
      "Solution 10-600.0+40/50\n",
      "Solution 10-600.0+0.8\n",
      "Solution 10-600.8\n",
      "Solution -590.8\n"
     ]
    },
    {
     "ename": "ValueError",
     "evalue": "could not convert string to float: ",
     "output_type": "error",
     "traceback": [
      "\u001b[1;31m---------------------------------------------------------------------------\u001b[0m",
      "\u001b[1;31mValueError\u001b[0m                                Traceback (most recent call last)",
      "\u001b[1;32m<ipython-input-1-2003009bc81a>\u001b[0m in \u001b[0;36m<module>\u001b[1;34m\u001b[0m\n\u001b[0;32m     45\u001b[0m \u001b[0mprint\u001b[0m\u001b[1;33m(\u001b[0m\u001b[1;33m)\u001b[0m\u001b[1;33m\u001b[0m\u001b[1;33m\u001b[0m\u001b[0m\n\u001b[0;32m     46\u001b[0m \u001b[0mtest\u001b[0m \u001b[1;33m=\u001b[0m \u001b[1;34m'10-20*30+40/50'\u001b[0m\u001b[1;33m\u001b[0m\u001b[1;33m\u001b[0m\u001b[0m\n\u001b[1;32m---> 47\u001b[1;33m \u001b[0mmdas\u001b[0m\u001b[1;33m(\u001b[0m\u001b[0mtest\u001b[0m\u001b[1;33m)\u001b[0m\u001b[1;33m\u001b[0m\u001b[1;33m\u001b[0m\u001b[0m\n\u001b[0m",
      "\u001b[1;32m<ipython-input-1-2003009bc81a>\u001b[0m in \u001b[0;36mmdas\u001b[1;34m(test)\u001b[0m\n\u001b[0;32m     29\u001b[0m                 \u001b[0msolution\u001b[0m \u001b[1;33m=\u001b[0m \u001b[0mround\u001b[0m\u001b[1;33m(\u001b[0m\u001b[0mfloat\u001b[0m\u001b[1;33m(\u001b[0m\u001b[0mnum1\u001b[0m\u001b[1;33m)\u001b[0m \u001b[1;33m+\u001b[0m \u001b[0mfloat\u001b[0m\u001b[1;33m(\u001b[0m\u001b[0mnum2\u001b[0m\u001b[1;33m)\u001b[0m\u001b[1;33m,\u001b[0m \u001b[1;36m1\u001b[0m\u001b[1;33m)\u001b[0m\u001b[1;33m\u001b[0m\u001b[1;33m\u001b[0m\u001b[0m\n\u001b[0;32m     30\u001b[0m             \u001b[1;32melif\u001b[0m \u001b[0moperator\u001b[0m \u001b[1;33m==\u001b[0m \u001b[1;34m'-'\u001b[0m\u001b[1;33m:\u001b[0m\u001b[1;33m\u001b[0m\u001b[1;33m\u001b[0m\u001b[0m\n\u001b[1;32m---> 31\u001b[1;33m                 \u001b[0msolution\u001b[0m \u001b[1;33m=\u001b[0m \u001b[0mround\u001b[0m\u001b[1;33m(\u001b[0m\u001b[0mfloat\u001b[0m\u001b[1;33m(\u001b[0m\u001b[0mnum1\u001b[0m\u001b[1;33m)\u001b[0m \u001b[1;33m-\u001b[0m \u001b[0mfloat\u001b[0m\u001b[1;33m(\u001b[0m\u001b[0mnum2\u001b[0m\u001b[1;33m)\u001b[0m\u001b[1;33m,\u001b[0m \u001b[1;36m1\u001b[0m\u001b[1;33m)\u001b[0m\u001b[1;33m\u001b[0m\u001b[1;33m\u001b[0m\u001b[0m\n\u001b[0m\u001b[0;32m     32\u001b[0m \u001b[1;33m\u001b[0m\u001b[0m\n\u001b[0;32m     33\u001b[0m             \u001b[1;31m# Replace formula with solutiom\u001b[0m\u001b[1;33m\u001b[0m\u001b[1;33m\u001b[0m\u001b[1;33m\u001b[0m\u001b[0m\n",
      "\u001b[1;31mValueError\u001b[0m: could not convert string to float: "
     ]
    }
   ],
   "source": [
    "\n",
    "numbers = ['.', '0', '1', '2', '3', '4', '5', '6', '7', '8', '9']\n",
    "operators = ['*', '/', '+', '-' ]\n",
    "\n",
    "def mdas(test):\n",
    "    print('Problem ', test)\n",
    "    for operator in operators:\n",
    "        while operator in test:\n",
    "            \n",
    "            index = test.find(operator) # Find first number by moving backwards from operator\n",
    "            num1 = ''\n",
    "            while test[index-1] in numbers and index-1 >= 0:\n",
    "                num1 = num1 + test[index-1]\n",
    "                index -= 1\n",
    "            num1 = num1[::-1]\n",
    "\n",
    "            # Find second number by moving forward from operator to next operator\n",
    "            index = test.find(operator)\n",
    "            num2 = ''\n",
    "            while index <= len(test)-2 and test[index+1] in numbers:\n",
    "                num2 = num2 + test[index+1]\n",
    "                index += 1 \n",
    "\n",
    "            # Perform calculations based on operator\n",
    "            if operator == '*':\n",
    "                solution = round(float(num1) * float(num2), 2)\n",
    "            elif operator == '/':\n",
    "                solution = round(float(num1) / float(num2), 2)\n",
    "            elif operator == '+':\n",
    "                solution = round(float(num1) + float(num2), 2)\n",
    "            elif operator == '-':\n",
    "                solution = round(float(num1) - float(num2), 2)\n",
    "\n",
    "            # Replace formula with solutiom\n",
    "            formula = num1 + operator + num2                        \n",
    "            test = test.replace(formula, str(solution), 1)\n",
    "\n",
    "            print('Solution', test)\n",
    "    \n",
    "    \n",
    "test = '33*3*4*5/6+1*12-4/6+80'\n",
    "mdas(test)\n",
    "print()\n",
    "test = '1+1+1+1+1+10*10-10/2'\n",
    "mdas(test)\n",
    "print()\n",
    "test = '10-20*30+40/50'\n",
    "mdas(test)"
   ]
  },
  {
   "cell_type": "code",
   "execution_count": null,
   "metadata": {},
   "outputs": [],
   "source": [
    "        "
   ]
  },
  {
   "cell_type": "code",
   "execution_count": null,
   "metadata": {},
   "outputs": [],
   "source": []
  }
 ],
 "metadata": {
  "kernelspec": {
   "display_name": "Python 3",
   "language": "python",
   "name": "python3"
  },
  "language_info": {
   "codemirror_mode": {
    "name": "ipython",
    "version": 3
   },
   "file_extension": ".py",
   "mimetype": "text/x-python",
   "name": "python",
   "nbconvert_exporter": "python",
   "pygments_lexer": "ipython3",
   "version": "3.7.7"
  }
 },
 "nbformat": 4,
 "nbformat_minor": 4
}
